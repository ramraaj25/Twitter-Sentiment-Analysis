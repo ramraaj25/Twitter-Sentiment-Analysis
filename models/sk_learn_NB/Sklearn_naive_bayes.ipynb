{
 "cells": [
  {
   "cell_type": "code",
   "execution_count": 1,
   "metadata": {},
   "outputs": [],
   "source": [
    "import pandas as pd\n",
    "from nltk.tokenize import RegexpTokenizer"
   ]
  },
  {
   "cell_type": "code",
   "execution_count": 2,
   "metadata": {},
   "outputs": [
    {
     "name": "stdout",
     "output_type": "stream",
     "text": [
      "   mood    tweet_id                      datetime     query             user  \\\n",
      "0     0  1467810369  Mon Apr 06 22:19:45 PDT 2009  NO_QUERY  _TheSpecialOne_   \n",
      "1     0  1467810672  Mon Apr 06 22:19:49 PDT 2009  NO_QUERY    scotthamilton   \n",
      "2     0  1467810917  Mon Apr 06 22:19:53 PDT 2009  NO_QUERY         mattycus   \n",
      "3     0  1467811184  Mon Apr 06 22:19:57 PDT 2009  NO_QUERY          ElleCTF   \n",
      "4     0  1467811193  Mon Apr 06 22:19:57 PDT 2009  NO_QUERY           Karoli   \n",
      "\n",
      "                                               tweet  \n",
      "0  @switchfoot http://twitpic.com/2y1zl - Awww, t...  \n",
      "1  is upset that he can't update his Facebook by ...  \n",
      "2  @Kenichan I dived many times for the ball. Man...  \n",
      "3    my whole body feels itchy and like its on fire   \n",
      "4  @nationwideclass no, it's not behaving at all....  \n"
     ]
    }
   ],
   "source": [
    "data = pd.read_csv('dataset.csv')\n",
    "print(data.head())"
   ]
  },
  {
   "cell_type": "code",
   "execution_count": 3,
   "metadata": {},
   "outputs": [
    {
     "name": "stdout",
     "output_type": "stream",
     "text": [
      "                                               tweet  mood\n",
      "0  @switchfoot http://twitpic.com/2y1zl - Awww, t...     0\n",
      "1  is upset that he can't update his Facebook by ...     0\n",
      "2  @Kenichan I dived many times for the ball. Man...     0\n",
      "3    my whole body feels itchy and like its on fire      0\n",
      "4  @nationwideclass no, it's not behaving at all....     0\n"
     ]
    }
   ],
   "source": [
    "data = data[['tweet', 'mood']]\n",
    "print(data.head())"
   ]
  },
  {
   "cell_type": "code",
   "execution_count": 4,
   "metadata": {},
   "outputs": [
    {
     "name": "stdout",
     "output_type": "stream",
     "text": [
      "                                               tweet  mood  sentiments\n",
      "0  @switchfoot http://twitpic.com/2y1zl - Awww, t...     0           0\n",
      "1  is upset that he can't update his Facebook by ...     0           0\n",
      "2  @Kenichan I dived many times for the ball. Man...     0           0\n",
      "3    my whole body feels itchy and like its on fire      0           0\n",
      "4  @nationwideclass no, it's not behaving at all....     0           0\n"
     ]
    }
   ],
   "source": [
    "data['sentiments'] = data.mood.map(lambda s: 0 if s == 0 else 1)\n",
    "print(data.head())"
   ]
  },
  {
   "cell_type": "code",
   "execution_count": 5,
   "metadata": {},
   "outputs": [
    {
     "name": "stdout",
     "output_type": "stream",
     "text": [
      "                                               tweet  sentiments\n",
      "0  @switchfoot http://twitpic.com/2y1zl - Awww, t...           0\n",
      "1  is upset that he can't update his Facebook by ...           0\n",
      "2  @Kenichan I dived many times for the ball. Man...           0\n",
      "3    my whole body feels itchy and like its on fire            0\n",
      "4  @nationwideclass no, it's not behaving at all....           0\n"
     ]
    }
   ],
   "source": [
    "data.drop('mood', axis=1, inplace=True)\n",
    "print(data.head())"
   ]
  },
  {
   "cell_type": "code",
   "execution_count": 6,
   "metadata": {},
   "outputs": [
    {
     "name": "stdout",
     "output_type": "stream",
     "text": [
      "1    800000\n",
      "0    800000\n",
      "Name: sentiments, dtype: int64\n"
     ]
    }
   ],
   "source": [
    "print(data.sentiments.value_counts())"
   ]
  },
  {
   "cell_type": "code",
   "execution_count": 7,
   "metadata": {},
   "outputs": [
    {
     "name": "stdout",
     "output_type": "stream",
     "text": [
      "                                                     tweet  sentiments\n",
      "1116374  @luckee13  LOL, I noticed it went to you, was ...           1\n",
      "197658   @twitt3rbox first off live your app  1 questio...           0\n",
      "1556029  @Quiggmate: Thank you sooo mmuchh x you have m...           1\n",
      "440232   Fascinating stuff but I am getting on with som...           0\n",
      "348254   Back at work  Oh well, only three more days un...           0\n"
     ]
    }
   ],
   "source": [
    "data = data.sample(1600000)\n",
    "print(data.head())"
   ]
  },
  {
   "cell_type": "code",
   "execution_count": 8,
   "metadata": {},
   "outputs": [],
   "source": [
    "tokenizer = RegexpTokenizer(r'[A-Za-z]+')"
   ]
  },
  {
   "cell_type": "code",
   "execution_count": 9,
   "metadata": {},
   "outputs": [
    {
     "name": "stdout",
     "output_type": "stream",
     "text": [
      "                                                     tweet  sentiments\n",
      "1116374  [luckee, LOL, I, noticed, it, went, to, you, w...           1\n",
      "197658   [twitt, rbox, first, off, live, your, app, que...           0\n",
      "1556029  [Quiggmate, Thank, you, sooo, mmuchh, x, you, ...           1\n",
      "440232   [Fascinating, stuff, but, I, am, getting, on, ...           0\n",
      "348254   [Back, at, work, Oh, well, only, three, more, ...           0\n"
     ]
    }
   ],
   "source": [
    "data['tweet'] = data.tweet.map(lambda x: tokenizer.tokenize(x))\n",
    "print(data.head())"
   ]
  },
  {
   "cell_type": "code",
   "execution_count": 11,
   "metadata": {},
   "outputs": [],
   "source": [
    "from nltk.stem.snowball import SnowballStemmer\n",
    "stemmer = SnowballStemmer('english')"
   ]
  },
  {
   "cell_type": "code",
   "execution_count": 12,
   "metadata": {},
   "outputs": [
    {
     "name": "stdout",
     "output_type": "stream",
     "text": [
      "                                                     tweet  sentiments\n",
      "1116374  [lucke, lol, i, notic, it, went, to, you, was,...           1\n",
      "197658   [twitt, rbox, first, off, live, your, app, que...           0\n",
      "1556029  [quiggmat, thank, you, sooo, mmuchh, x, you, h...           1\n",
      "440232   [fascin, stuff, but, i, am, get, on, with, som...           0\n",
      "348254   [back, at, work, oh, well, onli, three, more, ...           0\n"
     ]
    }
   ],
   "source": [
    "data['tweet'] = data.tweet.map(lambda x: [stemmer.stem(word) for word in x])\n",
    "print(data.head())"
   ]
  },
  {
   "cell_type": "code",
   "execution_count": 13,
   "metadata": {},
   "outputs": [],
   "source": [
    "from sklearn.feature_extraction.text import CountVectorizer\n",
    "cv = CountVectorizer(stop_words='english')"
   ]
  },
  {
   "cell_type": "code",
   "execution_count": 14,
   "metadata": {},
   "outputs": [
    {
     "data": {
      "text/html": [
       "<div>\n",
       "<style scoped>\n",
       "    .dataframe tbody tr th:only-of-type {\n",
       "        vertical-align: middle;\n",
       "    }\n",
       "\n",
       "    .dataframe tbody tr th {\n",
       "        vertical-align: top;\n",
       "    }\n",
       "\n",
       "    .dataframe thead th {\n",
       "        text-align: right;\n",
       "    }\n",
       "</style>\n",
       "<table border=\"1\" class=\"dataframe\">\n",
       "  <thead>\n",
       "    <tr style=\"text-align: right;\">\n",
       "      <th></th>\n",
       "      <th>tweet</th>\n",
       "      <th>sentiments</th>\n",
       "    </tr>\n",
       "  </thead>\n",
       "  <tbody>\n",
       "    <tr>\n",
       "      <th>1116374</th>\n",
       "      <td>lucke lol i notic it went to you was pose to g...</td>\n",
       "      <td>1</td>\n",
       "    </tr>\n",
       "    <tr>\n",
       "      <th>197658</th>\n",
       "      <td>twitt rbox first off live your app question wh...</td>\n",
       "      <td>0</td>\n",
       "    </tr>\n",
       "    <tr>\n",
       "      <th>1556029</th>\n",
       "      <td>quiggmat thank you sooo mmuchh x you have made...</td>\n",
       "      <td>1</td>\n",
       "    </tr>\n",
       "    <tr>\n",
       "      <th>440232</th>\n",
       "      <td>fascin stuff but i am get on with some work re...</td>\n",
       "      <td>0</td>\n",
       "    </tr>\n",
       "    <tr>\n",
       "      <th>348254</th>\n",
       "      <td>back at work oh well onli three more day until...</td>\n",
       "      <td>0</td>\n",
       "    </tr>\n",
       "    <tr>\n",
       "      <th>...</th>\n",
       "      <td>...</td>\n",
       "      <td>...</td>\n",
       "    </tr>\n",
       "    <tr>\n",
       "      <th>469480</th>\n",
       "      <td>alexpapworth i agre char are too short i could...</td>\n",
       "      <td>0</td>\n",
       "    </tr>\n",
       "    <tr>\n",
       "      <th>1146387</th>\n",
       "      <td>sgogolev that s what i do too also just came b...</td>\n",
       "      <td>1</td>\n",
       "    </tr>\n",
       "    <tr>\n",
       "      <th>1107391</th>\n",
       "      <td>andiwalshaw the other shin album are absolut n...</td>\n",
       "      <td>1</td>\n",
       "    </tr>\n",
       "    <tr>\n",
       "      <th>147176</th>\n",
       "      <td>has a sick littl boy just in time for his birt...</td>\n",
       "      <td>0</td>\n",
       "    </tr>\n",
       "    <tr>\n",
       "      <th>256403</th>\n",
       "      <td>i wanna meet nichola jona is my dream d offici...</td>\n",
       "      <td>0</td>\n",
       "    </tr>\n",
       "  </tbody>\n",
       "</table>\n",
       "<p>1600000 rows × 2 columns</p>\n",
       "</div>"
      ],
      "text/plain": [
       "                                                     tweet  sentiments\n",
       "1116374  lucke lol i notic it went to you was pose to g...           1\n",
       "197658   twitt rbox first off live your app question wh...           0\n",
       "1556029  quiggmat thank you sooo mmuchh x you have made...           1\n",
       "440232   fascin stuff but i am get on with some work re...           0\n",
       "348254   back at work oh well onli three more day until...           0\n",
       "...                                                    ...         ...\n",
       "469480   alexpapworth i agre char are too short i could...           0\n",
       "1146387  sgogolev that s what i do too also just came b...           1\n",
       "1107391  andiwalshaw the other shin album are absolut n...           1\n",
       "147176   has a sick littl boy just in time for his birt...           0\n",
       "256403   i wanna meet nichola jona is my dream d offici...           0\n",
       "\n",
       "[1600000 rows x 2 columns]"
      ]
     },
     "execution_count": 14,
     "metadata": {},
     "output_type": "execute_result"
    }
   ],
   "source": [
    "data.tweet = data.tweet.str.join(sep=' ')\n",
    "data"
   ]
  },
  {
   "cell_type": "code",
   "execution_count": 15,
   "metadata": {},
   "outputs": [
    {
     "data": {
      "text/plain": [
       "<1600000x533365 sparse matrix of type '<class 'numpy.int64'>'\n",
       "\twith 11146262 stored elements in Compressed Sparse Row format>"
      ]
     },
     "execution_count": 15,
     "metadata": {},
     "output_type": "execute_result"
    }
   ],
   "source": [
    "data_tf = cv.fit_transform(data.tweet)\n",
    "data_tf"
   ]
  },
  {
   "cell_type": "code",
   "execution_count": 16,
   "metadata": {},
   "outputs": [],
   "source": [
    "from sklearn.model_selection import train_test_split \n",
    "x_train, x_test, y_train, y_test = train_test_split(data_tf, data.sentiments)"
   ]
  },
  {
   "cell_type": "code",
   "execution_count": 17,
   "metadata": {},
   "outputs": [
    {
     "data": {
      "text/plain": [
       "1    800000\n",
       "0    800000\n",
       "Name: sentiments, dtype: int64"
      ]
     },
     "execution_count": 17,
     "metadata": {},
     "output_type": "execute_result"
    }
   ],
   "source": [
    "data.sentiments.value_counts()"
   ]
  },
  {
   "cell_type": "code",
   "execution_count": 18,
   "metadata": {},
   "outputs": [],
   "source": [
    "from sklearn.naive_bayes import MultinomialNB\n",
    "mnb = MultinomialNB()"
   ]
  },
  {
   "cell_type": "code",
   "execution_count": 19,
   "metadata": {},
   "outputs": [
    {
     "data": {
      "text/plain": [
       "MultinomialNB()"
      ]
     },
     "execution_count": 19,
     "metadata": {},
     "output_type": "execute_result"
    }
   ],
   "source": [
    "mnb.fit(x_train, y_train)"
   ]
  },
  {
   "cell_type": "code",
   "execution_count": 1,
   "metadata": {},
   "outputs": [
    {
     "ename": "NameError",
     "evalue": "name 'mnb' is not defined",
     "output_type": "error",
     "traceback": [
      "\u001b[1;31m---------------------------------------------------------------------------\u001b[0m",
      "\u001b[1;31mNameError\u001b[0m                                 Traceback (most recent call last)",
      "\u001b[1;32m<ipython-input-1-40282e851f5a>\u001b[0m in \u001b[0;36m<module>\u001b[1;34m\u001b[0m\n\u001b[1;32m----> 1\u001b[1;33m \u001b[0mprint\u001b[0m\u001b[1;33m(\u001b[0m\u001b[0mmnb\u001b[0m\u001b[1;33m.\u001b[0m\u001b[0mscore\u001b[0m\u001b[1;33m(\u001b[0m\u001b[0mx_train\u001b[0m\u001b[1;33m,\u001b[0m \u001b[0my_train\u001b[0m\u001b[1;33m)\u001b[0m\u001b[1;33m)\u001b[0m\u001b[1;33m\u001b[0m\u001b[1;33m\u001b[0m\u001b[0m\n\u001b[0m",
      "\u001b[1;31mNameError\u001b[0m: name 'mnb' is not defined"
     ]
    }
   ],
   "source": [
    "print(mnb.score(x_train, y_train))"
   ]
  },
  {
   "cell_type": "code",
   "execution_count": 22,
   "metadata": {},
   "outputs": [],
   "source": [
    "import pickle\n",
    "pickle_o = open('mnb_model_large.pickle', 'wb')\n",
    "pickle.dump(mnb, pickle_o)\n",
    "pickle_o.close()"
   ]
  },
  {
   "cell_type": "code",
   "execution_count": 31,
   "metadata": {},
   "outputs": [],
   "source": [
    "pickle_out = open('count_vectorizer.pickle', 'wb')\n",
    "pickle.dump(cv, pickle_out)\n",
    "pickle_out.close()"
   ]
  }
 ],
 "metadata": {
  "kernelspec": {
   "display_name": "Python 3",
   "language": "python",
   "name": "python3"
  },
  "language_info": {
   "codemirror_mode": {
    "name": "ipython",
    "version": 3
   },
   "file_extension": ".py",
   "mimetype": "text/x-python",
   "name": "python",
   "nbconvert_exporter": "python",
   "pygments_lexer": "ipython3",
   "version": "3.8.2"
  }
 },
 "nbformat": 4,
 "nbformat_minor": 4
}
